{
  "nbformat": 4,
  "nbformat_minor": 0,
  "metadata": {
    "colab": {
      "name": "Untitled6.ipynb",
      "provenance": [],
      "authorship_tag": "ABX9TyPV/+qmyihTj0JUTH8tFTqD",
      "include_colab_link": true
    },
    "kernelspec": {
      "name": "python3",
      "display_name": "Python 3"
    },
    "language_info": {
      "name": "python"
    }
  },
  "cells": [
    {
      "cell_type": "markdown",
      "metadata": {
        "id": "view-in-github",
        "colab_type": "text"
      },
      "source": [
        "<a href=\"https://colab.research.google.com/github/samarashraf2510/Pharmaapp_Graduation_Project/blob/main/Untitled6.ipynb\" target=\"_parent\"><img src=\"https://colab.research.google.com/assets/colab-badge.svg\" alt=\"Open In Colab\"/></a>"
      ]
    },
    {
      "cell_type": "code",
      "execution_count": null,
      "metadata": {
        "colab": {
          "base_uri": "https://localhost:8080/"
        },
        "id": "2VRyiU1O5Y7S",
        "outputId": "803ba209-d90e-4e1e-891b-97b36402aae4"
      },
      "outputs": [
        {
          "output_type": "stream",
          "name": "stdout",
          "text": [
            " my name is samar \n",
            " My birthday is : 1998 \n",
            " i'am graduated from fucalty of Engineering , suez-canal university \n",
            " my graduation year was 2021\n"
          ]
        }
      ],
      "source": [
        "# lab 1\n",
        "print (\" my name is samar \\n My birthday is : 1998 \\n i'am graduated from fucalty of Engineering , suez-canal university \\n my graduation year was 2021\")\n"
      ]
    },
    {
      "cell_type": "code",
      "source": [
        "# lab 2\n",
        "import math\n",
        "date=input (\"Enter your Birth year :\")\n",
        "age=int(date)\n",
        "agee=2022-age\n",
        "print(\"your age is \" ,agee)"
      ],
      "metadata": {
        "colab": {
          "base_uri": "https://localhost:8080/"
        },
        "id": "EzlvJOsM6uDj",
        "outputId": "d583378e-7a49-44a2-bdad-d2809ce82dbd"
      },
      "execution_count": 11,
      "outputs": [
        {
          "output_type": "stream",
          "name": "stdout",
          "text": [
            "Enter your Birth year :1998\n",
            "your age is  24\n"
          ]
        }
      ]
    },
    {
      "cell_type": "code",
      "source": [
        "#lab 3\n",
        "import math\n",
        "print(17/3)\n",
        "print(17/3.0)\n",
        "print(17//3.0) #floor\n",
        "print(17%3)\n",
        "print(5*3+2)\n",
        "print(5 ** 2)\n",
        "print(2 **7)\n",
        "x=(1+5)\n",
        "y=55\n",
        "f=abs(x)\n",
        "print(f)\n",
        "print(divmod(x,y))"
      ],
      "metadata": {
        "colab": {
          "base_uri": "https://localhost:8080/"
        },
        "id": "d92WlrnI9RyM",
        "outputId": "eb12624b-e341-44b1-e964-15cfaf3e6471"
      },
      "execution_count": 20,
      "outputs": [
        {
          "output_type": "stream",
          "name": "stdout",
          "text": [
            "5.666666666666667\n",
            "5.666666666666667\n",
            "5.0\n",
            "2\n",
            "17\n",
            "25\n",
            "128\n",
            "6\n",
            "(0, 6)\n"
          ]
        }
      ]
    },
    {
      "cell_type": "code",
      "source": [
        "#lab 4\n",
        "loan=input(\"enter the loan value\")\n",
        "years=input(\"enter the no of installment years\")\n",
        "print(\"youe monthly installment is \",x)\n"
      ],
      "metadata": {
        "id": "6KfbWEBjBCM3"
      },
      "execution_count": null,
      "outputs": []
    },
    {
      "cell_type": "code",
      "source": [
        "#lab 5\n",
        "timerREs=input(\"please enter the timer resolution \")\n",
        "Prescaler=input(\"please enter the prescaler value\")\n",
        "SYSfreq=input(\"please enter system freq in mhz\")\n",
        "\n"
      ],
      "metadata": {
        "id": "ROcCpXXNBum3"
      },
      "execution_count": null,
      "outputs": []
    },
    {
      "cell_type": "code",
      "source": [
        "#lab 6\n",
        "x=input(\"enter a number\")\n",
        "y=int(x)%2\n",
        "if y == 0:\n",
        "   print(\"the number is even\")\n",
        "else :\n",
        "    print(\"the number is odd\")\n"
      ],
      "metadata": {
        "colab": {
          "base_uri": "https://localhost:8080/"
        },
        "id": "NbuDOQAECqjo",
        "outputId": "2ae282bb-63f5-4ef0-9b1d-7d1a5f9615f4"
      },
      "execution_count": 26,
      "outputs": [
        {
          "output_type": "stream",
          "name": "stdout",
          "text": [
            "enter a number2\n",
            "the number is even\n"
          ]
        }
      ]
    },
    {
      "cell_type": "code",
      "source": [
        "# lab 7\n",
        "x=input(\"enter a year \")\n",
        "y=int(x)\n",
        "if y%100 !=0 :\n",
        "  if y%4 ==0:\n",
        "    print(y,\"is a leap year\")\n",
        "  else :\n",
        "    print(y,\"is a not a leap year\")  \n",
        "elif y%100 ==0 :\n",
        "  if y%400 ==0:\n",
        "    print(y,\"is a leap year\")\n",
        "  else:\n",
        "    print(y,\"is a not a leap year\")\n",
        "else :\n",
        "  print(\"enter valid number\")\n"
      ],
      "metadata": {
        "colab": {
          "base_uri": "https://localhost:8080/"
        },
        "id": "XoDeYrH6EXbl",
        "outputId": "e9cd9898-c6a7-4621-b570-45f4f1adee0c"
      },
      "execution_count": 38,
      "outputs": [
        {
          "output_type": "stream",
          "name": "stdout",
          "text": [
            "enter a year 1998\n",
            "1998 is a not a leap year\n"
          ]
        }
      ]
    },
    {
      "cell_type": "code",
      "source": [
        "# lab 8\n",
        "array=input(\"please enter your name\")\n",
        "print(array[::-1])\n"
      ],
      "metadata": {
        "colab": {
          "base_uri": "https://localhost:8080/"
        },
        "id": "zOZSymkxR5jA",
        "outputId": "aa013a12-5ffa-4038-f629-3bc42b1e5368"
      },
      "execution_count": 46,
      "outputs": [
        {
          "output_type": "stream",
          "name": "stdout",
          "text": [
            "please enter your nameSamar Ashraf Abdelaziz elgohary\n",
            "yrahogle zizaledbA farhsA ramaS\n"
          ]
        }
      ]
    },
    {
      "cell_type": "code",
      "source": [
        "#lab 9\n",
        "import math\n",
        "no=input(\"enter number\")\n",
        "nu=int(no)\n",
        "fact = 1\n",
        "  \n",
        "for i in range(1,nu+1):\n",
        "    fact = fact * i\n",
        "      \n",
        "print (\"The factorial of 23 is : \",end=\"\")\n",
        "print (fact)"
      ],
      "metadata": {
        "colab": {
          "base_uri": "https://localhost:8080/"
        },
        "id": "_U_jpkCTUfDi",
        "outputId": "4447a22c-7acb-492d-b52f-b0a3d5b560cb"
      },
      "execution_count": 50,
      "outputs": [
        {
          "output_type": "stream",
          "name": "stdout",
          "text": [
            "enter number6\n",
            "The factorial of 23 is : 720\n"
          ]
        }
      ]
    },
    {
      "cell_type": "code",
      "source": [
        "#lab 10\n",
        "string=str( input(\"Please enter a string\"))\n",
        "reverse = reversed(string)\n",
        "#reverse=string[::-1]\n",
        "if string != reverse :\n",
        "  print(\"its a plaindrome\")\n",
        "else :\n",
        "  print(\"its not a plaindrome\")\n"
      ],
      "metadata": {
        "colab": {
          "base_uri": "https://localhost:8080/"
        },
        "id": "Ev7P78m6fHuJ",
        "outputId": "f739a844-e4a0-4537-f7f0-4a4f7d7f65dc"
      },
      "execution_count": 55,
      "outputs": [
        {
          "output_type": "stream",
          "name": "stdout",
          "text": [
            "Please enter a string dad\n",
            "its a plaindrome\n"
          ]
        }
      ]
    },
    {
      "cell_type": "code",
      "source": [
        "#lab 11\n",
        "string = input(\"Enter a string: \")\n",
        "# breakdown the string into a list of words.\n",
        "words = string. split()\n",
        "# sort the list.\n",
        "words. sort()\n",
        "# display the sorted words.\n",
        "for word in words:\n",
        "  print(word)"
      ],
      "metadata": {
        "colab": {
          "base_uri": "https://localhost:8080/"
        },
        "id": "mod9jtjvj792",
        "outputId": "f797058b-7262-4723-9193-73cd0f79ccd1"
      },
      "execution_count": 60,
      "outputs": [
        {
          "output_type": "stream",
          "name": "stdout",
          "text": [
            "Enter a string: rehab samar donia \n",
            "donia\n",
            "rehab\n",
            "samar\n"
          ]
        }
      ]
    },
    {
      "cell_type": "code",
      "source": [
        "#lab 12\n",
        "# define punctuation  \n",
        "punctuation = '''''!()-[]{};:'\"\\,<>./?@#$%^&*_~'''  \n",
        "# take input from the user  \n",
        "my_str = input(\"Enter a string: \")  \n",
        "# remove punctuation from the string  \n",
        "no_punct = \"\"  \n",
        "for char in my_str:  \n",
        "   if char not in punctuation:  \n",
        "       no_punct = no_punct + char  \n",
        "# display the unpunctuated string  \n",
        "print(no_punct)\n"
      ],
      "metadata": {
        "colab": {
          "base_uri": "https://localhost:8080/"
        },
        "id": "ylrHmT6Fmfj3",
        "outputId": "b0bda78c-61e8-43fd-cbb5-71ee1335547e"
      },
      "execution_count": 61,
      "outputs": [
        {
          "output_type": "stream",
          "name": "stdout",
          "text": [
            "Enter a string: sdrtyu7t65r4ew3sghui$%^^%WE\n",
            "sdrtyu7t65r4ew3sghuiWE\n"
          ]
        }
      ]
    }
  ]
}